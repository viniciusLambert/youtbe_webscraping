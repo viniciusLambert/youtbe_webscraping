{
 "cells": [
  {
   "cell_type": "code",
   "execution_count": 1,
   "id": "2de58f12-5fc7-4e96-81d7-1005e8478acc",
   "metadata": {},
   "outputs": [],
   "source": [
    "from bs4 import BeautifulSoup\n",
    "from selenium import webdriver\n",
    "\n"
   ]
  },
  {
   "cell_type": "code",
   "execution_count": 2,
   "id": "81124d89-d89c-48d2-bf1c-0cda93bfccf9",
   "metadata": {},
   "outputs": [],
   "source": [
    "tag_urls = {\n",
    "    'Data Science': 'https://www.youtube.com/results?search_query=data+science',\n",
    "    # 'Machine Learning': 'https://medium.com/tag/machine-learning/archive/{0}/{1:02d}/{2:02d}',\n",
    "    # 'Artificial Inteligence': 'https://medium.com/tag/artificial-intelligence/archive/{0}/{1:02d}/{2:02d}',\n",
    "    # 'Deep Learning': 'https://medium.com/tag/deep-learning/archive/{0}/{1:02d}/{2:02d}',\n",
    "    # 'Data': 'https://medium.com/tag/data/archive/{0}/{1:02d}/{2:02d}',\n",
    "    # 'Big Data': 'https://medium.com/tag/big-data/archive/{0}/{1:02d}/{2:02d}',\n",
    "    # 'Analytics': 'https://medium.com/tag/analytics/archive/{0}/{1:02d}/{2:02d}',\n",
    "}"
   ]
  },
  {
   "cell_type": "code",
   "execution_count": 3,
   "id": "dbdf6ae7-fbcb-4301-adff-9ab01de2fc8d",
   "metadata": {},
   "outputs": [],
   "source": [
    "driver = webdriver.Firefox()\n"
   ]
  },
  {
   "cell_type": "code",
   "execution_count": 4,
   "id": "9a1c196f-525d-43a1-8e69-1ae54646c5e3",
   "metadata": {},
   "outputs": [
    {
     "name": "stdout",
     "output_type": "stream",
     "text": [
      "/watch?v=X3paOmcrTjQ&pp=ygUMZGF0YSBzY2llbmNl\n",
      "Data Science In 5 Minutes | Data Science For Beginners | What Is Data Science? | Simplilearn\n"
     ]
    },
    {
     "ename": "AttributeError",
     "evalue": "'NoneType' object has no attribute 'get'",
     "output_type": "error",
     "traceback": [
      "\u001b[1;31m---------------------------------------------------------------------------\u001b[0m",
      "\u001b[1;31mAttributeError\u001b[0m                            Traceback (most recent call last)",
      "Cell \u001b[1;32mIn[4], line 17\u001b[0m\n\u001b[0;32m      9\u001b[0m videos \u001b[38;5;241m=\u001b[39m soup\u001b[38;5;241m.\u001b[39mfindAll(\n\u001b[0;32m     10\u001b[0m     \u001b[38;5;124m\"\u001b[39m\u001b[38;5;124mdiv\u001b[39m\u001b[38;5;124m\"\u001b[39m, \n\u001b[0;32m     11\u001b[0m     class_ \u001b[38;5;241m=\u001b[39m \u001b[38;5;124m\"\u001b[39m\u001b[38;5;124mstyle-scope ytd-video-renderer\u001b[39m\u001b[38;5;124m\"\u001b[39m\n\u001b[0;32m     12\u001b[0m     \u001b[38;5;66;03m#class_=\"text-wrapper style-scope ytd-video-renderer\"\u001b[39;00m\n\u001b[0;32m     13\u001b[0m ) \n\u001b[0;32m     15\u001b[0m \u001b[38;5;28;01mfor\u001b[39;00m video \u001b[38;5;129;01min\u001b[39;00m videos:\n\u001b[1;32m---> 17\u001b[0m     video_url \u001b[38;5;241m=\u001b[39m \u001b[43mvideo\u001b[49m\u001b[38;5;241;43m.\u001b[39;49m\u001b[43mfind\u001b[49m\u001b[43m(\u001b[49m\u001b[38;5;124;43m\"\u001b[39;49m\u001b[38;5;124;43ma\u001b[39;49m\u001b[38;5;124;43m\"\u001b[39;49m\u001b[43m,\u001b[49m\u001b[43m \u001b[49m\u001b[38;5;28;43mid\u001b[39;49m\u001b[38;5;241;43m=\u001b[39;49m\u001b[38;5;124;43m\"\u001b[39;49m\u001b[38;5;124;43mthumbnail\u001b[39;49m\u001b[38;5;124;43m\"\u001b[39;49m\u001b[43m)\u001b[49m\u001b[38;5;241;43m.\u001b[39;49m\u001b[43mget\u001b[49m(\u001b[38;5;124m\"\u001b[39m\u001b[38;5;124mhref\u001b[39m\u001b[38;5;124m\"\u001b[39m)\n\u001b[0;32m     18\u001b[0m     \u001b[38;5;28mprint\u001b[39m(video_url)\n\u001b[0;32m     19\u001b[0m     thumbnail \u001b[38;5;241m=\u001b[39m video\u001b[38;5;241m.\u001b[39mfind(\u001b[38;5;124m\"\u001b[39m\u001b[38;5;124mimg\u001b[39m\u001b[38;5;124m\"\u001b[39m, class_\u001b[38;5;241m=\u001b[39m\u001b[38;5;124m\"\u001b[39m\u001b[38;5;124myt-core-image yt-core-image--fill-parent-height yt-core-image--fill-parent-width yt-core-image--content-mode-scale-aspect-fill yt-core-image--loaded\u001b[39m\u001b[38;5;124m\"\u001b[39m\n\u001b[0;32m     20\u001b[0m                              )\u001b[38;5;241m.\u001b[39mget(\u001b[38;5;124m\"\u001b[39m\u001b[38;5;124msrc\u001b[39m\u001b[38;5;124m\"\u001b[39m)\u001b[38;5;66;03m#.contents[0]\u001b[39;00m\n",
      "\u001b[1;31mAttributeError\u001b[0m: 'NoneType' object has no attribute 'get'"
     ]
    }
   ],
   "source": [
    "video_data = []\n",
    "video_id = 0\n",
    "for tag, url in tag_urls.items(): \n",
    "        driver.get(url)\n",
    "        \n",
    "        page = driver.page_source\n",
    "        soup = BeautifulSoup(page, 'html.parser')\n",
    "\n",
    "        videos = soup.findAll(\n",
    "            \"div\", \n",
    "            class_ = \"style-scope ytd-video-renderer\"\n",
    "            #class_=\"text-wrapper style-scope ytd-video-renderer\"\n",
    "        ) \n",
    "\n",
    "        for video in videos:\n",
    "           \n",
    "            video_url = video.find(\"a\", id=\"thumbnail\").get(\"href\")\n",
    "            print(video_url)\n",
    "            thumbnail = video.find(\"img\", class_=\"yt-core-image yt-core-image--fill-parent-height yt-core-image--fill-parent-width yt-core-image--content-mode-scale-aspect-fill yt-core-image--loaded\"\n",
    "                                     ).get(\"src\")#.contents[0]\n",
    "            \n",
    "            video_text_data = video#.find(\"div\", class_=\"text-wrapper style-scope ytd-video-renderer\")\n",
    "            \n",
    "            title = video_text_data.find(\"yt-formatted-string\", class_=\"style-scope ytd-video-renderer\")\n",
    "            title = title.contents[0]\n",
    "            print(title)\n",
    "\n",
    "            channel = video_text_data.find(\"a\", class_=\"yt-simple-endpoint style-scope yt-formatted-string\").contents[0]\n",
    "            channel_url = video_text_data.find(\"a\", class_=\"style-scope ytd-video-renderer\").get(\"href\")\n",
    "            channel_image = video_text_data.find_all(\"img\")\n",
    "\n",
    "            views = video_text_data.find_all(\"span\", class_=\"inline-metadata-item style-scope ytd-video-meta-block\")[0].contents[0]\n",
    "            date = video_text_data.find_all(\"span\", class_=\"inline-metadata-item style-scope ytd-video-meta-block\")[1].contents[0]\n",
    "        \n",
    "            video_data.append([video_url, thumbnail,\n",
    "                         title, channel,\n",
    "                         channel_url, channel_image, \n",
    "                         views, date])\n",
    "    \n",
    "\n",
    "            \n",
    "        "
   ]
  },
  {
   "cell_type": "code",
   "execution_count": null,
   "id": "dce3ec7c-6be8-487f-aa7b-fda6c94ec803",
   "metadata": {},
   "outputs": [],
   "source": [
    "driver.quit()"
   ]
  },
  {
   "cell_type": "code",
   "execution_count": 5,
   "id": "e0d6aff7-1a76-4829-99f9-eb0cd266eab7",
   "metadata": {},
   "outputs": [
    {
     "data": {
      "text/plain": [
       "[['/watch?v=X3paOmcrTjQ&pp=ygUMZGF0YSBzY2llbmNl',\n",
       "  'https://i.ytimg.com/vi/X3paOmcrTjQ/hq720.jpg?sqp=-oaymwEcCOgCEMoBSFXyq4qpAw4IARUAAIhCGAFwAcABBg==&rs=AOn4CLBDaytnKuFlKJR4RDAJkNymozeggw',\n",
       "  'Data Science In 5 Minutes | Data Science For Beginners | What Is Data Science? | Simplilearn',\n",
       "  'Simplilearn',\n",
       "  '/@SimplilearnOfficial',\n",
       "  [<img alt=\"\" class=\"yt-core-image yt-core-image--fill-parent-height yt-core-image--fill-parent-width yt-core-image--content-mode-scale-aspect-fill yt-core-image--loaded\" src=\"https://i.ytimg.com/vi/X3paOmcrTjQ/hq720.jpg?sqp=-oaymwEcCOgCEMoBSFXyq4qpAw4IARUAAIhCGAFwAcABBg==&amp;rs=AOn4CLBDaytnKuFlKJR4RDAJkNymozeggw\" style=\"background-color: transparent;\"/>,\n",
       "   <img alt=\"\" class=\"style-scope yt-img-shadow\" draggable=\"false\" id=\"img\" src=\"https://yt3.ggpht.com/7q9t5rjeujEZYqY1xMLn0mvT4Zc6MaZBYgtseDL2_Zh42AOhMze8ep7BUKdR5FnxytMy3csj=s68-c-k-c0x00ffffff-no-rj\" width=\"24\"/>],\n",
       "  '3.8M views',\n",
       "  '5 years ago']]"
      ]
     },
     "execution_count": 5,
     "metadata": {},
     "output_type": "execute_result"
    }
   ],
   "source": [
    "video_data\n"
   ]
  },
  {
   "cell_type": "code",
   "execution_count": null,
   "id": "1960447a-5607-4e4c-a493-5bff303416c1",
   "metadata": {},
   "outputs": [],
   "source": []
  }
 ],
 "metadata": {
  "kernelspec": {
   "display_name": "Python 3 (ipykernel)",
   "language": "python",
   "name": "python3"
  },
  "language_info": {
   "codemirror_mode": {
    "name": "ipython",
    "version": 3
   },
   "file_extension": ".py",
   "mimetype": "text/x-python",
   "name": "python",
   "nbconvert_exporter": "python",
   "pygments_lexer": "ipython3",
   "version": "3.9.5"
  }
 },
 "nbformat": 4,
 "nbformat_minor": 5
}
